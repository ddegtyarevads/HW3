{
 "cells": [
  {
   "cell_type": "code",
   "execution_count": null,
   "id": "c8c8ae03",
   "metadata": {},
   "outputs": [],
   "source": [
    "#Нетеплицева матрица\n",
    "\n",
    "v = list((map(int,input().split())))\n",
    "import numpy as np\n",
    "t = np.array(v)\n",
    "numpy_array = np.zeros((np.size(t),np.size(t)), dtype = np.int16)\n",
    "\n",
    "numpy_array[0,:] = t\n",
    "numpy_array[:,0] = t\n",
    "\n",
    "for i in range(1,np.size(t)):\n",
    "    for q in range(1,np.size(t)):\n",
    "        numpy_array[i,q] = numpy_array[i-1,q-1]\n",
    "for w in range(np.size(t)):\n",
    "    if w % 2 != 0:\n",
    "        numpy_array[w] = numpy_array[w][::-1]\n",
    "print(numpy_array)"
   ]
  },
  {
   "cell_type": "code",
   "execution_count": null,
   "id": "663d26cd",
   "metadata": {},
   "outputs": [],
   "source": []
  }
 ],
 "metadata": {
  "kernelspec": {
   "display_name": "Python 3",
   "language": "python",
   "name": "python3"
  },
  "language_info": {
   "codemirror_mode": {
    "name": "ipython",
    "version": 3
   },
   "file_extension": ".py",
   "mimetype": "text/x-python",
   "name": "python",
   "nbconvert_exporter": "python",
   "pygments_lexer": "ipython3",
   "version": "3.8.8"
  }
 },
 "nbformat": 4,
 "nbformat_minor": 5
}
