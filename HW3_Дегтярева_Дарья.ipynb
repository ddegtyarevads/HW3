{
 "cells": [
  {
   "cell_type": "code",
   "execution_count": null,
   "id": "ca8b0738",
   "metadata": {},
   "outputs": [],
   "source": [
    "#Нетеплицева матрица\n",
    "\n",
    "v = list((map(int,input().split())))\n",
    "import numpy as np\n",
    "t = np.array(v)\n",
    "numpy_array = np.zeros((np.size(t),np.size(t)), dtype = np.int16)\n",
    "\n",
    "numpy_array[0,:] = t\n",
    "numpy_array[:,0] = t\n",
    "\n",
    "for i in range(1,np.size(t)):\n",
    "    for q in range(1,np.size(t)):\n",
    "        numpy_array[i,q] = numpy_array[i-1,q-1]\n",
    "for w in range(np.size(t)):\n",
    "    if w % 2 != 0:\n",
    "        numpy_array[w] = numpy_array[w][::-1]\n",
    "print(numpy_array)"
   ]
  },
  {
   "cell_type": "code",
   "execution_count": null,
   "id": "132012da",
   "metadata": {},
   "outputs": [],
   "source": [
    "#Нетворкинг\n",
    "\n",
    "f = open('input.txt', 'r')\n",
    "lines = f.readlines()\n",
    "persons = []\n",
    "for i in range(len(lines)):\n",
    "    a = lines[i].split('\\t')\n",
    "    persons.append(a[0])\n",
    "    b = a[1].split('\\n')\n",
    "    persons.append(b[0])\n",
    "from collections import Counter\n",
    "score = Counter(persons)\n",
    "links_count = list(score.values())\n",
    "person = list(score.keys())\n",
    "import numpy as np\n",
    "import pandas as pd\n",
    "df = pd.DataFrame({\n",
    "    'person':person, 'links_count': links_count\n",
    "    })\n",
    "t = df.sort_values(\n",
    "    by=['links_count', 'person'],\n",
    "    ascending=[False, True]\n",
    ") \n",
    "data_frame = t.head()\n",
    "print(data_frame.to_string(index=False)) "
   ]
  }
 ],
 "metadata": {
  "kernelspec": {
   "display_name": "Python 3",
   "language": "python",
   "name": "python3"
  },
  "language_info": {
   "codemirror_mode": {
    "name": "ipython",
    "version": 3
   },
   "file_extension": ".py",
   "mimetype": "text/x-python",
   "name": "python",
   "nbconvert_exporter": "python",
   "pygments_lexer": "ipython3",
   "version": "3.8.8"
  }
 },
 "nbformat": 4,
 "nbformat_minor": 5
}
